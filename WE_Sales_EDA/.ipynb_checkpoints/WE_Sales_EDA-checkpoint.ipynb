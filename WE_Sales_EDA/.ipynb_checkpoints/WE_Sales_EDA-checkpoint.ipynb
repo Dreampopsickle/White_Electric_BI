{
 "cells": [
  {
   "cell_type": "code",
   "execution_count": 9,
   "id": "97371ae1-3c7d-464e-97f1-a2fe35c3ea80",
   "metadata": {},
   "outputs": [
    {
     "name": "stdout",
     "output_type": "stream",
     "text": [
      "All necessary libraries as installed!\n"
     ]
    }
   ],
   "source": [
    "# Import required libraries\n",
    "import pandas as pd\n",
    "import numpy as np\n",
    "import matplotlib.pyplot as plt\n",
    "import seaborn as sns\n",
    "import requests\n",
    "from datetime import datetime\n",
    "import time\n",
    "from dotenv import load_dotenv\n",
    "import os\n",
    "print('All necessary libraries as installed!')"
   ]
  },
  {
   "cell_type": "code",
   "execution_count": 10,
   "id": "efd49ad6",
   "metadata": {},
   "outputs": [
    {
     "name": "stdout",
     "output_type": "stream",
     "text": [
      "viz configured!\n"
     ]
    }
   ],
   "source": [
    "# Configure visualizations\n",
    "\n",
    "%matplotlib inline\n",
    "sns.set(style=\"whitegrid\")\n",
    "print('viz configured!')"
   ]
  },
  {
   "cell_type": "code",
   "execution_count": 11,
   "id": "b5e8f8ed",
   "metadata": {},
   "outputs": [],
   "source": [
    "# Load .env file\n",
    "load_dotenv()\n",
    "\n",
    "# Access Square API Token\n",
    "ACCESS_TOKEN = os.getenv(\"SQUARE_ACCESS_TOKEN\")\n",
    "if not ACCESS_TOKEN:\n",
    "    raise ValueError(\"Square API TOKEN not found in .env file!\")\n",
    "\n",
    "PAYMENTS_API_URL = 'https://connect.squareup.com/v2/payments'\n",
    "ORDERS_API_URL = 'https://connect.squareup.com/v2/orders'\n",
    "headers = {\n",
    "    \"Authorization\": f\"Bearer {ACCESS_TOKEN}\",\n",
    "    \"Content-Type\": \"application/json\"\n",
    "}\n",
    "\n",
    "\n",
    "\n"
   ]
  },
  {
   "cell_type": "code",
   "execution_count": 12,
   "id": "bae2fc1f",
   "metadata": {},
   "outputs": [],
   "source": [
    "def fetch_payment_data(start_date, end_date):\n",
    "    response = requests.get(\n",
    "        PAYMENTS_API_URL,\n",
    "        headers=headers,\n",
    "        params={\n",
    "            \"begin_time\": f\"{start_date}T00:00:00Z\",\n",
    "            \"end_time\": f\"{end_date}T23:59:59Z\"\n",
    "        }\n",
    "    )\n",
    "    if response.status_code == 200:\n",
    "        return pd.json_normalize(response.json().get(\"payments\", []))\n",
    "    else:\n",
    "        print(f\"Error: {response.status_code} - {response.text}\")\n",
    "        return pd.DataFrame()\n",
    "    \n",
    "start_date = \"2024-01-01\"\n",
    "end_date = \"2024-01-30\"\n",
    "payments_data = fetch_payment_data(start_date, end_date)\n",
    "\n",
    "\n"
   ]
  },
  {
   "cell_type": "code",
   "execution_count": 13,
   "id": "158fdac7",
   "metadata": {},
   "outputs": [],
   "source": [
    "valid_payments = payments_data.dropna(subset=[\"order_id\"])\n",
    "def fetch_order_details(order_id):\n",
    "    try:\n",
    "        response = requests.get(f\"{ORDERS_API_URL}/{order_id}\", headers=headers)\n",
    "        if response.status_code == 200:\n",
    "            return response.json()\n",
    "        else:\n",
    "            print(f\"Error fetching order {order_id}: {response.status_code} - {response.text}\")\n",
    "            return {}\n",
    "    except Exception as e:\n",
    "        print(f\"Exception occured for order {order_id}: {e}\")\n",
    "        return {}"
   ]
  },
  {
   "cell_type": "code",
   "execution_count": null,
   "id": "2ca594d3",
   "metadata": {},
   "outputs": [],
   "source": [
    "\n",
    "order_details = []\n",
    "for order_id in payments_data['order_id']:\n",
    "    order = fetch_order_details(order_id)\n",
    "    if order:\n",
    "        for item in order.get('line_items', []):\n",
    "            order_details.append({\n",
    "                \"order_id\": order_id,\n",
    "                \"item_name\": item[\"name\"],\n",
    "                \"quantity\": item[\"quantity\"],\n",
    "                \"gross_sales\": item[\"gross_sales_money\"][\"amount\"] / 100, \n",
    "                \"category\": item.get(\"category_name\", \"Unknown\")\n",
    "            })\n",
    "    \n",
    "    time.sleep(0.3)\n",
    "\n",
    "\n",
    "\n",
    "\n",
    "\n"
   ]
  },
  {
   "cell_type": "code",
   "execution_count": null,
   "id": "d5eeb9c4",
   "metadata": {},
   "outputs": [],
   "source": [
    "order_df = pd.DataFrame(order_details)\n",
    "\n",
    "if 'order_id' in payments_data.columns and 'order_id' in order_df.columns:\n",
    "    enriched_data = pd.merge(payments_data, order_df, on=\"order_id\", how=\"left\")\n",
    "else: \n",
    "    print(\"The 'order_id' column is missiong in one or more Dataframes.\")\n",
    "    enriched_data = payments_data\n",
    "\n",
    "enriched_data.to_csv(\"enriched_data.csv\", index=False)\n",
    "\n",
    "print(\"Enriched data has been saved to 'enriched_data.csv'\")\n",
    "\n",
    "enriched_data_preview = pd.read_csv(\"enriched_data.csv\")\n",
    "enriched_data_preview.head()"
   ]
  },
  {
   "cell_type": "code",
   "execution_count": null,
   "id": "4d6ac541-b2bd-4abf-baaf-ae5b97f00837",
   "metadata": {},
   "outputs": [],
   "source": [
    "enriched_data_preview.info()"
   ]
  },
  {
   "cell_type": "code",
   "execution_count": null,
   "id": "9c3e30ea-3ed1-48a9-9d1e-76c6a8272a90",
   "metadata": {},
   "outputs": [],
   "source": []
  }
 ],
 "metadata": {
  "kernelspec": {
   "display_name": "Python 3 (ipykernel)",
   "language": "python",
   "name": "python3"
  },
  "language_info": {
   "codemirror_mode": {
    "name": "ipython",
    "version": 3
   },
   "file_extension": ".py",
   "mimetype": "text/x-python",
   "name": "python",
   "nbconvert_exporter": "python",
   "pygments_lexer": "ipython3",
   "version": "3.9.20"
  }
 },
 "nbformat": 4,
 "nbformat_minor": 5
}
